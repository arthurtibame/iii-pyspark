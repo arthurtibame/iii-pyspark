{
 "cells": [
  {
   "cell_type": "markdown",
   "metadata": {},
   "source": [
    "# **<center>avg_temperature</center>**"
   ]
  },
  {
   "cell_type": "markdown",
   "metadata": {},
   "source": [
    "![](https://pic2.zhimg.com/v2-90d0508bebd533f277bdaa874bf1c15b_1440w.jpg)\n",
    "\n",
    "---\n",
    "## TODO List\n",
    "- [ ] [avg_temperature](https://github.com/arthurtibame/iii-pypsark/blob/master/Spark-01.ipynb)\n",
    "- [ ] avg_temperature2\n",
    "- [ ] avg_temperature3"
   ]
  },
  {
   "cell_type": "code",
   "execution_count": 1,
   "metadata": {},
   "outputs": [],
   "source": [
    "from pyspark import SparkContext, SparkConf"
   ]
  },
  {
   "cell_type": "markdown",
   "metadata": {},
   "source": [
    "## STEP1. \n",
    "    從hdfs 撈資料"
   ]
  },
  {
   "cell_type": "code",
   "execution_count": 2,
   "metadata": {},
   "outputs": [],
   "source": [
    "lines = sc.textFile(\"hdfs://master/user/spark/spark101/avg_temperature/data\")\n"
   ]
  },
  {
   "cell_type": "markdown",
   "metadata": {},
   "source": [
    "### 這邊 lines 為RDD 物件"
   ]
  },
  {
   "cell_type": "code",
   "execution_count": 3,
   "metadata": {},
   "outputs": [
    {
     "data": {
      "text/plain": [
       "hdfs://master/user/spark/spark101/avg_temperature/data MapPartitionsRDD[1] at textFile at NativeMethodAccessorImpl.java:0"
      ]
     },
     "execution_count": 3,
     "metadata": {},
     "output_type": "execute_result"
    }
   ],
   "source": [
    "lines"
   ]
  },
  {
   "cell_type": "markdown",
   "metadata": {},
   "source": [
    "## STEP2. \n",
    "   **從上面已知 lines 為RDD物件** </br>\n",
    "   **要打印出來方法有兩種:** </br>\n",
    "    **1. RDD.collect()** </br>\n",
    "    **2. RDD.take(<number>)** \n",
    "    "
   ]
  },
  {
   "cell_type": "code",
   "execution_count": 4,
   "metadata": {},
   "outputs": [
    {
     "data": {
      "text/plain": [
       "['03011,20070101,0050,AO2 ,-,CLR                                          ,10SM   ,-,30,1,23,29  , 5   ,150,-,0  ,30.14,-,-,AA,-',\n",
       " '03011,20070101,0150,AO2 ,-,CLR                                          ,10SM   ,-,28,1,21,31  , 6   ,160,-,0  ,30.13,-,-,AA,-',\n",
       " '03011,20070101,0250,AO2 ,-,SCT120                                       ,10SM   ,-,30,1,23,29  , 4   ,150,-,0  ,30.13,-,-,AA,-',\n",
       " '03011,20070101,0350,AO2 ,-,CLR                                          ,10SM   ,-,30,1,23,29  , 3   ,140,-,0  ,30.12,-,-,AA,-',\n",
       " '03011,20070101,0450,AO2 ,-,CLR                                          ,10SM   ,-,30,5,23,34  , 5   ,150,-,0  ,30.10,-,-,AA,-',\n",
       " '03011,20070101,0550,AO2 ,-,CLR                                          ,10SM   ,-,32,1,25,26  , 4   ,130,-,0  ,30.10,-,-,AA,-',\n",
       " '03011,20070101,0650,AO2 ,-,CLR                                          ,10SM   ,-,32,1,25,26  , 0   ,000,-,0  ,30.11,-,-,AA,-',\n",
       " '03011,20070101,0750,AO2 ,-,CLR                                          ,10SM   ,-,28,5,21,37  , 0   ,000,-,0  ,30.13,-,-,AA,-',\n",
       " '03011,20070101,0850,AO2 ,-,CLR                                          ,10SM   ,-,28,5,21,37  , 0   ,000,-,0  ,30.14,-,-,AA,-',\n",
       " '03011,20070101,0950,AO2 ,-,CLR                                          ,10SM   ,-,32,3,25,29  , 0   ,000,-,0  ,30.14,-,-,AA,-']"
      ]
     },
     "execution_count": 4,
     "metadata": {},
     "output_type": "execute_result"
    }
   ],
   "source": [
    "tmp = lines.take(10)\n",
    "tmp\n"
   ]
  },
  {
   "cell_type": "markdown",
   "metadata": {},
   "source": [
    "## 這邊 is_good function 的用意是過濾掉 第10個element 如果不是為整數的情況"
   ]
  },
  {
   "cell_type": "code",
   "execution_count": 5,
   "metadata": {},
   "outputs": [],
   "source": [
    "def is_good(record):\n",
    "    try:\n",
    "        temp = int(record.split(\",\")[10])\n",
    "        print(temp)\n",
    "    except ValueError:\n",
    "        return False\n",
    "    return True"
   ]
  },
  {
   "cell_type": "markdown",
   "metadata": {},
   "source": [
    "## 以下面為例, 第10個的值就是 30 所以經過 is_good 會回傳True"
   ]
  },
  {
   "cell_type": "code",
   "execution_count": 6,
   "metadata": {},
   "outputs": [
    {
     "data": {
      "text/plain": [
       "['03011',\n",
       " '20070101',\n",
       " '0050',\n",
       " 'AO2 ',\n",
       " '-',\n",
       " 'CLR                                          ',\n",
       " '10SM   ',\n",
       " '-',\n",
       " '30',\n",
       " '1',\n",
       " '23',\n",
       " '29  ',\n",
       " ' 5   ',\n",
       " '150',\n",
       " '-',\n",
       " '0  ',\n",
       " '30.14',\n",
       " '-',\n",
       " '-',\n",
       " 'AA',\n",
       " '-']"
      ]
     },
     "execution_count": 6,
     "metadata": {},
     "output_type": "execute_result"
    }
   ],
   "source": [
    "tmp[0].split(',')"
   ]
  },
  {
   "cell_type": "markdown",
   "metadata": {},
   "source": [
    "## RDD.filter (<function>) \n",
    "    這邊RDD 只會接回傳為True的row"
   ]
  },
  {
   "cell_type": "code",
   "execution_count": 7,
   "metadata": {},
   "outputs": [],
   "source": [
    "good_records = lines.filter(is_good)"
   ]
  },
  {
   "cell_type": "code",
   "execution_count": 8,
   "metadata": {},
   "outputs": [
    {
     "data": {
      "text/plain": [
       "'03011,20070101,0050,AO2 ,-,CLR                                          ,10SM   ,-,30,1,23,29  , 5   ,150,-,0  ,30.14,-,-,AA,-'"
      ]
     },
     "execution_count": 8,
     "metadata": {},
     "output_type": "execute_result"
    }
   ],
   "source": [
    "good_records.take(10)[0]"
   ]
  },
  {
   "cell_type": "markdown",
   "metadata": {},
   "source": [
    "## 這裡的 RDD.map 目的為把日期 跟 地10個element 取出"
   ]
  },
  {
   "cell_type": "code",
   "execution_count": 9,
   "metadata": {},
   "outputs": [],
   "source": [
    "day_temp = good_records.map(lambda x: (x.split(\",\")[1], int(x.split(\",\")[10])))"
   ]
  },
  {
   "cell_type": "code",
   "execution_count": 10,
   "metadata": {},
   "outputs": [
    {
     "data": {
      "text/plain": [
       "[('20070101', 23),\n",
       " ('20070101', 21),\n",
       " ('20070101', 23),\n",
       " ('20070101', 23),\n",
       " ('20070101', 23),\n",
       " ('20070101', 25),\n",
       " ('20070101', 25),\n",
       " ('20070101', 21),\n",
       " ('20070101', 21),\n",
       " ('20070101', 25)]"
      ]
     },
     "execution_count": 10,
     "metadata": {},
     "output_type": "execute_result"
    }
   ],
   "source": [
    "day_temp.take(10)"
   ]
  },
  {
   "cell_type": "code",
   "execution_count": 11,
   "metadata": {},
   "outputs": [],
   "source": [
    "def my_red(x, y):\n",
    "    return (x[0] + y [0], x[1] + y[1])\n",
    "\n",
    "result1 = day_temp.mapValues(lambda x: (x, 1))\n",
    "result2 = result1.reduceByKey(lambda x, y: (x[0] + y[0], x[1] + y[1]))\n",
    "#result2 = result1.reduceByKey(my_red)\n",
    "result3 = result2.map(lambda x: (x[0], x[1][0] / x[1][1]))"
   ]
  },
  {
   "cell_type": "code",
   "execution_count": 12,
   "metadata": {},
   "outputs": [
    {
     "data": {
      "text/plain": [
       "[('20070101', 23),\n",
       " ('20070101', 21),\n",
       " ('20070101', 23),\n",
       " ('20070101', 23),\n",
       " ('20070101', 23),\n",
       " ('20070101', 25),\n",
       " ('20070101', 25),\n",
       " ('20070101', 21),\n",
       " ('20070101', 21),\n",
       " ('20070101', 25)]"
      ]
     },
     "execution_count": 12,
     "metadata": {},
     "output_type": "execute_result"
    }
   ],
   "source": [
    "day_temp.take(10)"
   ]
  },
  {
   "cell_type": "markdown",
   "metadata": {},
   "source": [
    "## 這邊為result1 的結果 把 原本的value 再分割 並且給予數量1 以方便後面計算\n",
    "\n",
    "### code: day_temp.mapValues(lambda x: (x, 1))\n",
    "### lambda 的 x  就是傳入的參數 以上面的例子第一個就是 23 (注意這邊為mapValues 只針對values)\n",
    "### 所以經過 lambda 回傳為 (23,1) "
   ]
  },
  {
   "cell_type": "code",
   "execution_count": 13,
   "metadata": {},
   "outputs": [
    {
     "data": {
      "text/plain": [
       "[('20070101', (23, 1)),\n",
       " ('20070101', (21, 1)),\n",
       " ('20070101', (23, 1)),\n",
       " ('20070101', (23, 1)),\n",
       " ('20070101', (23, 1)),\n",
       " ('20070101', (25, 1)),\n",
       " ('20070101', (25, 1)),\n",
       " ('20070101', (21, 1)),\n",
       " ('20070101', (21, 1)),\n",
       " ('20070101', (25, 1))]"
      ]
     },
     "execution_count": 13,
     "metadata": {},
     "output_type": "execute_result"
    }
   ],
   "source": [
    "result1.take(10)"
   ]
  },
  {
   "cell_type": "markdown",
   "metadata": {},
   "source": [
    "## 這邊為result2 的結果\n",
    "\n",
    "### code: result1.reduceByKey(lambda x, y: (x[0] + y[0], x[1] + y[1]))\n",
    "### 這邊是 reduceByKey 所以帶入的參數會跟 value 有關\n",
    "### 這邊就是 20070101 (key) 的資料他會做相加\n",
    "### lambda 的部分 x 就是當前的 value \n",
    "### 以第一個為例 (23, 1) 那 x[0] = 23 , y[0]=0 , x[1]=1, y[1]=0\n",
    "### 當到第二個 (21, 1) 那 x[0] = 21 , y[0]=23 , x[1]=1, y[1]=0+1\n",
    "### 當到第三個 (23, 1) 那 x[0] = 21 , y[0]=23 + 21 , x[1]=1, y[1]=1+1\n",
    "### 當道第四個 (23, 1) 那 x[0] = 21 , y[0]=23 + 21+21 , x[1]=1, y[1]=1+1+1\n",
    "### 以此類推"
   ]
  },
  {
   "cell_type": "code",
   "execution_count": 14,
   "metadata": {},
   "outputs": [
    {
     "data": {
      "text/plain": [
       "[('20070101', (5538, 286)),\n",
       " ('20070108', (5861, 264)),\n",
       " ('20070110', (7123, 261)),\n",
       " ('20070111', (7678, 263)),\n",
       " ('20070112', (4859, 263)),\n",
       " ('20070113', (3630, 264)),\n",
       " ('20070115', (1258, 264)),\n",
       " ('20070116', (2427, 264)),\n",
       " ('20070119', (4186, 261)),\n",
       " ('20070122', (3591, 263))]"
      ]
     },
     "execution_count": 14,
     "metadata": {},
     "output_type": "execute_result"
    }
   ],
   "source": [
    "result2.take(10)"
   ]
  },
  {
   "cell_type": "markdown",
   "metadata": {},
   "source": [
    "## 這邊為 result3 結果\n",
    "### code: result2.map(lambda x: (x[0], x[1][0] / x[1][1]))\n",
    "\n",
    "### 注意這邊為map\n",
    "### 這邊lambda 的x\n",
    "### 以第一個為例 x[0] = '20070101', x[1]= (5538,286) 所以 x[1][0]= 5538, x[1][1]=286"
   ]
  },
  {
   "cell_type": "code",
   "execution_count": 15,
   "metadata": {},
   "outputs": [
    {
     "data": {
      "text/plain": [
       "[('20070101', 19.363636363636363),\n",
       " ('20070108', 22.200757575757574),\n",
       " ('20070110', 27.291187739463602),\n",
       " ('20070111', 29.193916349809886),\n",
       " ('20070112', 18.475285171102662),\n",
       " ('20070113', 13.75),\n",
       " ('20070115', 4.765151515151516),\n",
       " ('20070116', 9.193181818181818),\n",
       " ('20070119', 16.038314176245212),\n",
       " ('20070122', 13.653992395437262)]"
      ]
     },
     "execution_count": 15,
     "metadata": {},
     "output_type": "execute_result"
    }
   ],
   "source": [
    "result3.take(10)"
   ]
  },
  {
   "cell_type": "code",
   "execution_count": 16,
   "metadata": {},
   "outputs": [
    {
     "name": "stdout",
     "output_type": "stream",
     "text": [
      "('20070101', 19.363636363636363)\n",
      "('20070108', 22.200757575757574)\n",
      "('20070110', 27.291187739463602)\n",
      "('20070111', 29.193916349809886)\n",
      "('20070112', 18.475285171102662)\n",
      "('20070113', 13.75)\n",
      "('20070115', 4.765151515151516)\n",
      "('20070116', 9.193181818181818)\n",
      "('20070119', 16.038314176245212)\n",
      "('20070122', 13.653992395437262)\n",
      "('20070125', 23.827450980392157)\n",
      "('20070128', 19.901515151515152)\n",
      "('20070131', 21.711297071129707)\n",
      "('20070121', 19.545454545454547)\n",
      "('20070123', 18.325757575757574)\n",
      "('20070124', 22.813688212927758)\n",
      "('20070126', 24.484251968503937)\n",
      "('20070127', 20.757575757575758)\n",
      "('20070129', 19.03030303030303)\n",
      "('20070130', 18.50190114068441)\n",
      "('20070102', 19.726235741444867)\n",
      "('20070103', 25.290076335877863)\n",
      "('20070104', 29.946969696969695)\n",
      "('20070105', 25.295454545454547)\n",
      "('20070106', 16.481060606060606)\n",
      "('20070107', 16.397727272727273)\n",
      "('20070109', 22.27734375)\n",
      "('20070114', 9.549242424242424)\n",
      "('20070117', 14.395437262357415)\n",
      "('20070118', 14.393939393939394)\n",
      "('20070120', 21.40530303030303)\n"
     ]
    }
   ],
   "source": [
    "for line in result3.collect():\n",
    "    print(line)"
   ]
  },
  {
   "cell_type": "code",
   "execution_count": null,
   "metadata": {},
   "outputs": [],
   "source": []
  }
 ],
 "metadata": {
  "kernelspec": {
   "display_name": "Python 3",
   "language": "python",
   "name": "python3"
  },
  "language_info": {
   "codemirror_mode": {
    "name": "ipython",
    "version": 3
   },
   "file_extension": ".py",
   "mimetype": "text/x-python",
   "name": "python",
   "nbconvert_exporter": "python",
   "pygments_lexer": "ipython3",
   "version": "3.7.6"
  }
 },
 "nbformat": 4,
 "nbformat_minor": 4
}
