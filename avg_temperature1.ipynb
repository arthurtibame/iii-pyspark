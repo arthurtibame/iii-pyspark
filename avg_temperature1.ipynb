{
 "cells": [
  {
   "cell_type": "markdown",
   "metadata": {},
   "source": [
    "# **<center>avg_temperature2</center>**"
   ]
  },
  {
   "cell_type": "markdown",
   "metadata": {},
   "source": [
    "![](https://pic2.zhimg.com/v2-90d0508bebd533f277bdaa874bf1c15b_1440w.jpg)\n",
    "\n",
    "---\n",
    "## TODO List\n",
    "- [x] [avg_temperature](https://github.com/arthurtibame/iii-pyspark/blob/master/avg_temperature.ipynb)\n",
    "- [ ] avg_temperature2\n",
    "- [ ] avg_temperature3\n",
    "\n",
    "## 前面的code 敘述請參照 [avg_temperature](https://github.com/arthurtibame/iii-pyspark/blob/master/avg_temperature.ipynb)\n"
   ]
  },
  {
   "cell_type": "code",
   "execution_count": 2,
   "metadata": {},
   "outputs": [],
   "source": [
    "from pyspark import SparkConf, SparkContext\n",
    "\n",
    "def is_good(record):\n",
    "    try:\n",
    "        temp = int(record.split(\",\")[10])\n",
    "    except ValueError:\n",
    "        return False\n",
    "    return True\n",
    "    \n",
    "\n",
    "records = sc.textFile(\"hdfs://master/user/spark/spark101/avg_temperature/data\")\n",
    "\n",
    "good_records = records.filter(is_good)\n",
    "\n",
    "day_temp = good_records.map(lambda x: (x.split(\",\")[1], int(x.split(\",\")[10])))\n"
   ]
  },
  {
   "cell_type": "markdown",
   "metadata": {},
   "source": [
    "## 這邊的 createCombiner 作用跟 [avg_temperature](https://github.com/arthurtibame/iii-pypsark/blob/master/Spark-01.ipynb) 的第一步驟一樣"
   ]
  },
  {
   "cell_type": "code",
   "execution_count": 32,
   "metadata": {},
   "outputs": [],
   "source": [
    "createCombiner = lambda v: (v, 1)\n"
   ]
  },
  {
   "cell_type": "markdown",
   "metadata": {},
   "source": [
    "## 這邊的mergeValue \n",
    "### lambda 中 \n",
    "### acc 參數為累計計算出結果的key (xxx, xxx)\n",
    "###  v 為 當下要加入的key 為createCombiner 的 v"
   ]
  },
  {
   "cell_type": "code",
   "execution_count": 33,
   "metadata": {},
   "outputs": [],
   "source": [
    "mergeValue = lambda acc, v: (acc[0] + v, acc[1] +1)"
   ]
  },
  {
   "cell_type": "markdown",
   "metadata": {},
   "source": [
    "## 這邊的 mergeCombiners\n"
   ]
  },
  {
   "cell_type": "code",
   "execution_count": null,
   "metadata": {},
   "outputs": [],
   "source": [
    "mergeCombiners = lambda acc1, acc2: (acc1[0] + acc2[0], acc1[1] + acc2[1])"
   ]
  },
  {
   "cell_type": "code",
   "execution_count": 34,
   "metadata": {},
   "outputs": [
    {
     "data": {
      "text/plain": [
       "[('20070122', (3591, 263)),\n",
       " ('20070125', (6076, 255)),\n",
       " ('20070128', (5254, 264)),\n",
       " ('20070131', (5189, 239)),\n",
       " ('20070101', (5538, 286)),\n",
       " ('20070108', (5861, 264)),\n",
       " ('20070110', (7123, 261)),\n",
       " ('20070111', (7678, 263)),\n",
       " ('20070112', (4859, 263)),\n",
       " ('20070113', (3630, 264))]"
      ]
     },
     "execution_count": 34,
     "metadata": {},
     "output_type": "execute_result"
    }
   ],
   "source": [
    "result1 = day_temp.combineByKey(createCombiner=createCombiner, mergeValue=mergeValue, mergeCombiners=mergeCombiners) \n",
    "result2 = result1.map(lambda x: (x[0], x[1][0] / x[1][1]))\n",
    "result1.take(10)\n"
   ]
  },
  {
   "cell_type": "code",
   "execution_count": 38,
   "metadata": {},
   "outputs": [],
   "source": [
    ">>> a = \"test\""
   ]
  },
  {
   "cell_type": "code",
   "execution_count": null,
   "metadata": {},
   "outputs": [],
   "source": [
    "\n",
    "for line in result2.collect():\n",
    "    print(line)"
   ]
  }
 ],
 "metadata": {
  "kernelspec": {
   "display_name": "Python 3",
   "language": "python",
   "name": "python3"
  },
  "language_info": {
   "codemirror_mode": {
    "name": "ipython",
    "version": 3
   },
   "file_extension": ".py",
   "mimetype": "text/x-python",
   "name": "python",
   "nbconvert_exporter": "python",
   "pygments_lexer": "ipython3",
   "version": "3.7.6"
  }
 },
 "nbformat": 4,
 "nbformat_minor": 4
}
