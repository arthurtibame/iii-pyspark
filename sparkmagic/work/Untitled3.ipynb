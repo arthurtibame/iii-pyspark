{
 "cells": [
  {
   "cell_type": "code",
   "execution_count": 14,
   "metadata": {},
   "outputs": [
    {
     "name": "stderr",
     "output_type": "stream",
     "text": [
      "An error was encountered:\n",
      "Invalid status code '404' from http://10.120.26.200:8998/sessions/18 with error payload: {\"msg\":\"Session '18' not found.\"}\n"
     ]
    }
   ],
   "source": [
    "sc"
   ]
  },
  {
   "cell_type": "code",
   "execution_count": 2,
   "metadata": {},
   "outputs": [
    {
     "data": {
      "application/vnd.jupyter.widget-view+json": {
       "model_id": "",
       "version_major": 2,
       "version_minor": 0
      },
      "text/plain": [
       "FloatProgress(value=0.0, bar_style='info', description='Progress:', layout=Layout(height='25px', width='50%'),…"
      ]
     },
     "metadata": {},
     "output_type": "display_data"
    }
   ],
   "source": [
    "sc.stop()"
   ]
  },
  {
   "cell_type": "code",
   "execution_count": 3,
   "metadata": {},
   "outputs": [
    {
     "data": {
      "application/vnd.jupyter.widget-view+json": {
       "model_id": "",
       "version_major": 2,
       "version_minor": 0
      },
      "text/plain": [
       "FloatProgress(value=0.0, bar_style='info', description='Progress:', layout=Layout(height='25px', width='50%'),…"
      ]
     },
     "metadata": {},
     "output_type": "display_data"
    },
    {
     "name": "stdout",
     "output_type": "stream",
     "text": [
      "<SparkContext master=spark://10.120.26.200:7077 appName=立哥>"
     ]
    }
   ],
   "source": [
    "from pyspark import SparkConf, SparkContext\n",
    "conf = SparkConf().setAppName(\"立哥\").setMaster(\"spark://10.120.26.200:7077\").set(\"spark.executor.cores\", '4').set(\"spark.executor.memory\", '8g').set('spark.cores.max', '4')\n",
    "sc = SparkContext(conf=conf)\n",
    "sc"
   ]
  },
  {
   "cell_type": "code",
   "execution_count": 15,
   "metadata": {},
   "outputs": [
    {
     "name": "stderr",
     "output_type": "stream",
     "text": [
      "An error was encountered:\n",
      "Invalid status code '404' from http://10.120.26.200:8998/sessions/18 with error payload: {\"msg\":\"Session '18' not found.\"}\n"
     ]
    }
   ],
   "source": [
    "from pyspark.sql import SparkSession\n",
    "\n",
    "spark = SparkSession.builder.appName('立哥SQL').getOrCreate()\n"
   ]
  },
  {
   "cell_type": "code",
   "execution_count": 7,
   "metadata": {},
   "outputs": [
    {
     "data": {
      "application/vnd.jupyter.widget-view+json": {
       "model_id": "",
       "version_major": 2,
       "version_minor": 0
      },
      "text/plain": [
       "FloatProgress(value=0.0, bar_style='info', description='Progress:', layout=Layout(height='25px', width='50%'),…"
      ]
     },
     "metadata": {},
     "output_type": "display_data"
    }
   ],
   "source": [
    "# Create a DataFrame from a JSON file\n",
    "stocks_df = spark.read.json(\"hdfs://10.120.26.200/user/spark/spark_sql_101/data/stocks.json\", schema=\"adj_close float, close float, date date, high float, low float, open float, symbol string, volume long\")\n"
   ]
  },
  {
   "cell_type": "code",
   "execution_count": 8,
   "metadata": {},
   "outputs": [
    {
     "data": {
      "application/vnd.jupyter.widget-view+json": {
       "model_id": "",
       "version_major": 2,
       "version_minor": 0
      },
      "text/plain": [
       "FloatProgress(value=0.0, bar_style='info', description='Progress:', layout=Layout(height='25px', width='50%'),…"
      ]
     },
     "metadata": {},
     "output_type": "display_data"
    },
    {
     "name": "stdout",
     "output_type": "stream",
     "text": [
      "root\n",
      " |-- adj_close: float (nullable = true)\n",
      " |-- close: float (nullable = true)\n",
      " |-- date: date (nullable = true)\n",
      " |-- high: float (nullable = true)\n",
      " |-- low: float (nullable = true)\n",
      " |-- open: float (nullable = true)\n",
      " |-- symbol: string (nullable = true)\n",
      " |-- volume: long (nullable = true)"
     ]
    }
   ],
   "source": [
    "#  Print the schema in a tree format\n",
    "stocks_df.printSchema()\n"
   ]
  },
  {
   "cell_type": "code",
   "execution_count": 9,
   "metadata": {},
   "outputs": [
    {
     "data": {
      "application/vnd.jupyter.widget-view+json": {
       "model_id": "",
       "version_major": 2,
       "version_minor": 0
      },
      "text/plain": [
       "FloatProgress(value=0.0, bar_style='info', description='Progress:', layout=Layout(height='25px', width='50%'),…"
      ]
     },
     "metadata": {},
     "output_type": "display_data"
    },
    {
     "name": "stdout",
     "output_type": "stream",
     "text": [
      "+---------+------+----------+------+------+------+------+--------+\n",
      "|adj_close| close|      date|  high|   low|  open|symbol|  volume|\n",
      "+---------+------+----------+------+------+------+------+--------+\n",
      "|    90.75| 90.75|2009-01-02| 91.04| 85.16| 85.88|  AAPL|26643400|\n",
      "|   194.84|194.84|2008-01-02|200.26|192.55|199.27|  AAPL|38542100|\n",
      "|     83.8|  83.8|2007-01-03| 86.58|  81.9| 86.29|  AAPL|44225700|\n",
      "|    74.75| 74.75|2006-01-03| 74.75| 72.25| 72.38|  AAPL|28829800|\n",
      "|    31.65| 63.29|2005-01-03| 65.11|  62.6| 64.78|  AAPL|24714000|\n",
      "|    10.64| 21.28|2004-01-02| 21.75| 21.18| 21.55|  AAPL| 5165800|\n",
      "|      7.4|  14.8|2003-01-02| 14.92| 14.35| 14.36|  AAPL| 6479600|\n",
      "|    11.65|  23.3|2002-01-02|  23.3| 21.96| 22.05|  AAPL|18910600|\n",
      "|     7.44| 14.88|2001-01-02| 15.25| 14.56| 14.88|  AAPL|16161800|\n",
      "|    27.99|111.94|2000-01-03| 112.5|101.69|104.87|  AAPL|19144400|\n",
      "|    16.96| 16.96|2009-01-02|  17.0| 16.25| 16.41|  CSCO|40980600|\n",
      "|    26.54| 26.54|2008-01-02|  27.3| 26.21|  27.0|  CSCO|64338900|\n",
      "|    27.73| 27.73|2007-01-03| 27.98| 27.33| 27.46|  CSCO|64226000|\n",
      "|    17.45| 17.45|2006-01-03| 17.49| 17.18| 17.21|  CSCO|55426000|\n",
      "|    19.32| 19.32|2005-01-03| 19.61| 19.27| 19.42|  CSCO|56725600|\n",
      "|    24.25| 24.25|2004-01-02| 24.53| 24.16| 24.36|  CSCO|29955800|\n",
      "|    13.64| 13.64|2003-01-02| 13.69| 13.09| 13.11|  CSCO|61335700|\n",
      "|    19.23| 19.23|2002-01-02|  19.3| 18.26| 18.44|  CSCO|55376900|\n",
      "|    33.31| 33.31|2001-01-02|  38.5| 32.63| 38.13|  CSCO|17384600|\n",
      "|    54.03|108.06|2000-01-03|110.25|103.56|109.94|  CSCO|53076000|\n",
      "+---------+------+----------+------+------+------+------+--------+\n",
      "only showing top 20 rows"
     ]
    }
   ],
   "source": [
    "#  Displays the content of the DataFrame to stdout\n",
    "stocks_df.show()"
   ]
  },
  {
   "cell_type": "code",
   "execution_count": 10,
   "metadata": {},
   "outputs": [
    {
     "data": {
      "application/vnd.jupyter.widget-view+json": {
       "model_id": "",
       "version_major": 2,
       "version_minor": 0
      },
      "text/plain": [
       "FloatProgress(value=0.0, bar_style='info', description='Progress:', layout=Layout(height='25px', width='50%'),…"
      ]
     },
     "metadata": {},
     "output_type": "display_data"
    }
   ],
   "source": [
    "# Register the DataFrame as a SQL temporary view\n",
    "stocks_df.createOrReplaceTempView(\"stocks\")\n"
   ]
  },
  {
   "cell_type": "code",
   "execution_count": 11,
   "metadata": {},
   "outputs": [
    {
     "data": {
      "application/vnd.jupyter.widget-view+json": {
       "model_id": "",
       "version_major": 2,
       "version_minor": 0
      },
      "text/plain": [
       "FloatProgress(value=0.0, bar_style='info', description='Progress:', layout=Layout(height='25px', width='50%'),…"
      ]
     },
     "metadata": {},
     "output_type": "display_data"
    }
   ],
   "source": [
    "# use SQL to query teh DataFrame with spark.sql() methods\n",
    "result_df = spark.sql(\"SELECT symbol, AVG(open) as avg_open FROM stocks GROUP BY symbol\")"
   ]
  },
  {
   "cell_type": "code",
   "execution_count": 12,
   "metadata": {},
   "outputs": [
    {
     "data": {
      "application/vnd.jupyter.widget-view+json": {
       "model_id": "",
       "version_major": 2,
       "version_minor": 0
      },
      "text/plain": [
       "FloatProgress(value=0.0, bar_style='info', description='Progress:', layout=Layout(height='25px', width='50%'),…"
      ]
     },
     "metadata": {},
     "output_type": "display_data"
    },
    {
     "name": "stdout",
     "output_type": "stream",
     "text": [
      "+------+------------------+\n",
      "|symbol|          avg_open|\n",
      "+------+------------------+\n",
      "|  AAPL| 68.63099994659424|\n",
      "|  CSCO|31.148000240325928|\n",
      "|  YHOO| 69.33300113677979|\n",
      "|  GOOG| 417.4779968261719|\n",
      "|  MSFT| 44.63100051879883|\n",
      "+------+------------------+"
     ]
    }
   ],
   "source": [
    "result_df.show()"
   ]
  },
  {
   "cell_type": "code",
   "execution_count": 13,
   "metadata": {},
   "outputs": [
    {
     "data": {
      "application/vnd.jupyter.widget-view+json": {
       "model_id": "",
       "version_major": 2,
       "version_minor": 0
      },
      "text/plain": [
       "FloatProgress(value=0.0, bar_style='info', description='Progress:', layout=Layout(height='25px', width='50%'),…"
      ]
     },
     "metadata": {},
     "output_type": "display_data"
    }
   ],
   "source": [
    "# write to hdfs in parquet file formats\n",
    "result_df.write.parquet(\"hdfs://10.120.26.200/user/spark/spark_sql_101/data/stocks_in_parquet\")"
   ]
  },
  {
   "cell_type": "code",
   "execution_count": null,
   "metadata": {},
   "outputs": [],
   "source": []
  }
 ],
 "metadata": {
  "kernelspec": {
   "display_name": "PySpark",
   "language": "",
   "name": "pysparkkernel"
  },
  "language_info": {
   "codemirror_mode": {
    "name": "python",
    "version": 3
   },
   "mimetype": "text/x-python",
   "name": "pyspark",
   "pygments_lexer": "python3"
  }
 },
 "nbformat": 4,
 "nbformat_minor": 2
}
